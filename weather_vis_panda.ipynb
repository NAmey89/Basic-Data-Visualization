{
 "cells": [
  {
   "cell_type": "code",
   "execution_count": 21,
   "metadata": {
    "scrolled": true
   },
   "outputs": [],
   "source": [
    "## Import pandas library and a csv file\n",
    "\n",
    "import pandas as pd\n",
    "df = pd.read_csv('F:\\\\DataScience\\\\Datasets\\\\multi_city_weather.csv')\n",
    "\n",
    "import matplotlib.pyplot as plt\n",
    "%matplotlib inline"
   ]
  },
  {
   "cell_type": "code",
   "execution_count": 32,
   "metadata": {},
   "outputs": [
    {
     "data": {
      "text/plain": [
       "366"
      ]
     },
     "execution_count": 32,
     "metadata": {},
     "output_type": "execute_result"
    }
   ],
   "source": [
    "len(df)"
   ]
  },
  {
   "cell_type": "code",
   "execution_count": 57,
   "metadata": {
    "scrolled": true
   },
   "outputs": [
    {
     "data": {
      "text/html": [
       "<div>\n",
       "<style scoped>\n",
       "    .dataframe tbody tr th:only-of-type {\n",
       "        vertical-align: middle;\n",
       "    }\n",
       "\n",
       "    .dataframe tbody tr th {\n",
       "        vertical-align: top;\n",
       "    }\n",
       "\n",
       "    .dataframe thead th {\n",
       "        text-align: right;\n",
       "    }\n",
       "</style>\n",
       "<table border=\"1\" class=\"dataframe\">\n",
       "  <thead>\n",
       "    <tr style=\"text-align: right;\">\n",
       "      <th></th>\n",
       "      <th>MinTemp</th>\n",
       "      <th>MaxTemp</th>\n",
       "      <th>Rainfall</th>\n",
       "      <th>Evaporation</th>\n",
       "      <th>Sunshine</th>\n",
       "      <th>WindGustSpeed</th>\n",
       "      <th>WindSpeed9am</th>\n",
       "      <th>WindSpeed3pm</th>\n",
       "      <th>Humidity9am</th>\n",
       "      <th>Humidity3pm</th>\n",
       "      <th>Pressure9am</th>\n",
       "      <th>Pressure3pm</th>\n",
       "      <th>Cloud9am</th>\n",
       "      <th>Cloud3pm</th>\n",
       "      <th>Temp9am</th>\n",
       "      <th>Temp3pm</th>\n",
       "      <th>RISK_MM</th>\n",
       "    </tr>\n",
       "  </thead>\n",
       "  <tbody>\n",
       "    <tr>\n",
       "      <th>count</th>\n",
       "      <td>366.000000</td>\n",
       "      <td>366.000000</td>\n",
       "      <td>366.000000</td>\n",
       "      <td>366.000000</td>\n",
       "      <td>363.000000</td>\n",
       "      <td>364.000000</td>\n",
       "      <td>359.000000</td>\n",
       "      <td>366.000000</td>\n",
       "      <td>366.000000</td>\n",
       "      <td>366.000000</td>\n",
       "      <td>366.000000</td>\n",
       "      <td>366.000000</td>\n",
       "      <td>366.000000</td>\n",
       "      <td>366.000000</td>\n",
       "      <td>366.000000</td>\n",
       "      <td>366.000000</td>\n",
       "      <td>366.000000</td>\n",
       "    </tr>\n",
       "    <tr>\n",
       "      <th>mean</th>\n",
       "      <td>7.265574</td>\n",
       "      <td>20.550273</td>\n",
       "      <td>1.428415</td>\n",
       "      <td>4.521858</td>\n",
       "      <td>7.909366</td>\n",
       "      <td>39.840659</td>\n",
       "      <td>9.651811</td>\n",
       "      <td>17.986339</td>\n",
       "      <td>72.035519</td>\n",
       "      <td>44.519126</td>\n",
       "      <td>1019.709016</td>\n",
       "      <td>1016.810383</td>\n",
       "      <td>3.890710</td>\n",
       "      <td>4.024590</td>\n",
       "      <td>12.358470</td>\n",
       "      <td>19.230874</td>\n",
       "      <td>1.428415</td>\n",
       "    </tr>\n",
       "    <tr>\n",
       "      <th>std</th>\n",
       "      <td>6.025800</td>\n",
       "      <td>6.690516</td>\n",
       "      <td>4.225800</td>\n",
       "      <td>2.669383</td>\n",
       "      <td>3.481517</td>\n",
       "      <td>13.059807</td>\n",
       "      <td>7.951929</td>\n",
       "      <td>8.856997</td>\n",
       "      <td>13.137058</td>\n",
       "      <td>16.850947</td>\n",
       "      <td>6.686212</td>\n",
       "      <td>6.469422</td>\n",
       "      <td>2.956131</td>\n",
       "      <td>2.666268</td>\n",
       "      <td>5.630832</td>\n",
       "      <td>6.640346</td>\n",
       "      <td>4.225800</td>\n",
       "    </tr>\n",
       "    <tr>\n",
       "      <th>min</th>\n",
       "      <td>-5.300000</td>\n",
       "      <td>7.600000</td>\n",
       "      <td>0.000000</td>\n",
       "      <td>0.200000</td>\n",
       "      <td>0.000000</td>\n",
       "      <td>13.000000</td>\n",
       "      <td>0.000000</td>\n",
       "      <td>0.000000</td>\n",
       "      <td>36.000000</td>\n",
       "      <td>13.000000</td>\n",
       "      <td>996.500000</td>\n",
       "      <td>996.800000</td>\n",
       "      <td>0.000000</td>\n",
       "      <td>0.000000</td>\n",
       "      <td>0.100000</td>\n",
       "      <td>5.100000</td>\n",
       "      <td>0.000000</td>\n",
       "    </tr>\n",
       "    <tr>\n",
       "      <th>25%</th>\n",
       "      <td>2.300000</td>\n",
       "      <td>15.025000</td>\n",
       "      <td>0.000000</td>\n",
       "      <td>2.200000</td>\n",
       "      <td>5.950000</td>\n",
       "      <td>31.000000</td>\n",
       "      <td>6.000000</td>\n",
       "      <td>11.000000</td>\n",
       "      <td>64.000000</td>\n",
       "      <td>32.250000</td>\n",
       "      <td>1015.350000</td>\n",
       "      <td>1012.800000</td>\n",
       "      <td>1.000000</td>\n",
       "      <td>1.000000</td>\n",
       "      <td>7.625000</td>\n",
       "      <td>14.150000</td>\n",
       "      <td>0.000000</td>\n",
       "    </tr>\n",
       "    <tr>\n",
       "      <th>50%</th>\n",
       "      <td>7.450000</td>\n",
       "      <td>19.650000</td>\n",
       "      <td>0.000000</td>\n",
       "      <td>4.200000</td>\n",
       "      <td>8.600000</td>\n",
       "      <td>39.000000</td>\n",
       "      <td>7.000000</td>\n",
       "      <td>17.000000</td>\n",
       "      <td>72.000000</td>\n",
       "      <td>43.000000</td>\n",
       "      <td>1020.150000</td>\n",
       "      <td>1017.400000</td>\n",
       "      <td>3.500000</td>\n",
       "      <td>4.000000</td>\n",
       "      <td>12.550000</td>\n",
       "      <td>18.550000</td>\n",
       "      <td>0.000000</td>\n",
       "    </tr>\n",
       "    <tr>\n",
       "      <th>75%</th>\n",
       "      <td>12.500000</td>\n",
       "      <td>25.500000</td>\n",
       "      <td>0.200000</td>\n",
       "      <td>6.400000</td>\n",
       "      <td>10.500000</td>\n",
       "      <td>46.000000</td>\n",
       "      <td>13.000000</td>\n",
       "      <td>24.000000</td>\n",
       "      <td>81.000000</td>\n",
       "      <td>55.000000</td>\n",
       "      <td>1024.475000</td>\n",
       "      <td>1021.475000</td>\n",
       "      <td>7.000000</td>\n",
       "      <td>7.000000</td>\n",
       "      <td>17.000000</td>\n",
       "      <td>24.000000</td>\n",
       "      <td>0.200000</td>\n",
       "    </tr>\n",
       "    <tr>\n",
       "      <th>max</th>\n",
       "      <td>20.900000</td>\n",
       "      <td>35.800000</td>\n",
       "      <td>39.800000</td>\n",
       "      <td>13.800000</td>\n",
       "      <td>13.600000</td>\n",
       "      <td>98.000000</td>\n",
       "      <td>41.000000</td>\n",
       "      <td>52.000000</td>\n",
       "      <td>99.000000</td>\n",
       "      <td>96.000000</td>\n",
       "      <td>1035.700000</td>\n",
       "      <td>1033.200000</td>\n",
       "      <td>8.000000</td>\n",
       "      <td>8.000000</td>\n",
       "      <td>24.700000</td>\n",
       "      <td>34.500000</td>\n",
       "      <td>39.800000</td>\n",
       "    </tr>\n",
       "  </tbody>\n",
       "</table>\n",
       "</div>"
      ],
      "text/plain": [
       "          MinTemp     MaxTemp    Rainfall  Evaporation    Sunshine  \\\n",
       "count  366.000000  366.000000  366.000000   366.000000  363.000000   \n",
       "mean     7.265574   20.550273    1.428415     4.521858    7.909366   \n",
       "std      6.025800    6.690516    4.225800     2.669383    3.481517   \n",
       "min     -5.300000    7.600000    0.000000     0.200000    0.000000   \n",
       "25%      2.300000   15.025000    0.000000     2.200000    5.950000   \n",
       "50%      7.450000   19.650000    0.000000     4.200000    8.600000   \n",
       "75%     12.500000   25.500000    0.200000     6.400000   10.500000   \n",
       "max     20.900000   35.800000   39.800000    13.800000   13.600000   \n",
       "\n",
       "       WindGustSpeed  WindSpeed9am  WindSpeed3pm  Humidity9am  Humidity3pm  \\\n",
       "count     364.000000    359.000000    366.000000   366.000000   366.000000   \n",
       "mean       39.840659      9.651811     17.986339    72.035519    44.519126   \n",
       "std        13.059807      7.951929      8.856997    13.137058    16.850947   \n",
       "min        13.000000      0.000000      0.000000    36.000000    13.000000   \n",
       "25%        31.000000      6.000000     11.000000    64.000000    32.250000   \n",
       "50%        39.000000      7.000000     17.000000    72.000000    43.000000   \n",
       "75%        46.000000     13.000000     24.000000    81.000000    55.000000   \n",
       "max        98.000000     41.000000     52.000000    99.000000    96.000000   \n",
       "\n",
       "       Pressure9am  Pressure3pm    Cloud9am    Cloud3pm     Temp9am  \\\n",
       "count   366.000000   366.000000  366.000000  366.000000  366.000000   \n",
       "mean   1019.709016  1016.810383    3.890710    4.024590   12.358470   \n",
       "std       6.686212     6.469422    2.956131    2.666268    5.630832   \n",
       "min     996.500000   996.800000    0.000000    0.000000    0.100000   \n",
       "25%    1015.350000  1012.800000    1.000000    1.000000    7.625000   \n",
       "50%    1020.150000  1017.400000    3.500000    4.000000   12.550000   \n",
       "75%    1024.475000  1021.475000    7.000000    7.000000   17.000000   \n",
       "max    1035.700000  1033.200000    8.000000    8.000000   24.700000   \n",
       "\n",
       "          Temp3pm     RISK_MM  \n",
       "count  366.000000  366.000000  \n",
       "mean    19.230874    1.428415  \n",
       "std      6.640346    4.225800  \n",
       "min      5.100000    0.000000  \n",
       "25%     14.150000    0.000000  \n",
       "50%     18.550000    0.000000  \n",
       "75%     24.000000    0.200000  \n",
       "max     34.500000   39.800000  "
      ]
     },
     "execution_count": 57,
     "metadata": {},
     "output_type": "execute_result"
    }
   ],
   "source": [
    "### Summary statistics is obtained using following command\n",
    "\n",
    "df.describe()"
   ]
  },
  {
   "cell_type": "code",
   "execution_count": 58,
   "metadata": {},
   "outputs": [
    {
     "data": {
      "text/plain": [
       "(35.8, -5.3)"
      ]
     },
     "execution_count": 58,
     "metadata": {},
     "output_type": "execute_result"
    }
   ],
   "source": [
    "### Max and min temprature recorded\n",
    "\n",
    "df['MaxTemp'].max(), df['MinTemp'].min()"
   ]
  },
  {
   "cell_type": "code",
   "execution_count": 59,
   "metadata": {},
   "outputs": [
    {
     "data": {
      "text/plain": [
       "(30.7, -5.3)"
      ]
     },
     "execution_count": 59,
     "metadata": {},
     "output_type": "execute_result"
    }
   ],
   "source": [
    "### Max and min tempratures for a particular city\n",
    "\n",
    "df[df['City'] == 'NY']['MaxTemp'].max(), df[df['City'] == 'NY']['MinTemp'].min()"
   ]
  },
  {
   "cell_type": "code",
   "execution_count": 60,
   "metadata": {},
   "outputs": [
    {
     "data": {
      "text/plain": [
       "(City\n",
       " BO    35.2\n",
       " LA    35.8\n",
       " NY    30.7\n",
       " Name: MaxTemp, dtype: float64, City\n",
       " BO   -2.7\n",
       " LA    6.1\n",
       " NY   -5.3\n",
       " Name: MinTemp, dtype: float64)"
      ]
     },
     "execution_count": 60,
     "metadata": {},
     "output_type": "execute_result"
    }
   ],
   "source": [
    "### Maximum and minimum temprature in each city\n",
    "\n",
    "df.groupby(['City'])['MaxTemp'].max(), df.groupby(['City'])['MinTemp'].min()"
   ]
  },
  {
   "cell_type": "code",
   "execution_count": 61,
   "metadata": {},
   "outputs": [
    {
     "data": {
      "text/plain": [
       "(<matplotlib.axes._subplots.AxesSubplot at 0xdbdd510>,\n",
       " <matplotlib.axes._subplots.AxesSubplot at 0xdbdd510>)"
      ]
     },
     "execution_count": 61,
     "metadata": {},
     "output_type": "execute_result"
    },
    {
     "data": {
      "image/png": "[encoded data removed]",
      "text/plain": [
       "<Figure size 432x288 with 1 Axes>"
      ]
     },
     "metadata": {
      "needs_background": "light"
     },
     "output_type": "display_data"
    }
   ],
   "source": [
    "### Plot of maximum and minimum temprature\n",
    "\n",
    "df.groupby(['City'])['MaxTemp'].max().plot(kind = 'bar'), df.groupby(['City'])['MinTemp'].min().plot(kind = 'bar')"
   ]
  },
  {
   "cell_type": "code",
   "execution_count": 62,
   "metadata": {
    "scrolled": true
   },
   "outputs": [
    {
     "data": {
      "text/html": [
       "<div>\n",
       "<style scoped>\n",
       "    .dataframe tbody tr th:only-of-type {\n",
       "        vertical-align: middle;\n",
       "    }\n",
       "\n",
       "    .dataframe tbody tr th {\n",
       "        vertical-align: top;\n",
       "    }\n",
       "\n",
       "    .dataframe thead th {\n",
       "        text-align: right;\n",
       "    }\n",
       "</style>\n",
       "<table border=\"1\" class=\"dataframe\">\n",
       "  <thead>\n",
       "    <tr style=\"text-align: right;\">\n",
       "      <th></th>\n",
       "      <th>MaxTemp</th>\n",
       "      <th>MinTemp</th>\n",
       "    </tr>\n",
       "    <tr>\n",
       "      <th>City</th>\n",
       "      <th></th>\n",
       "      <th></th>\n",
       "    </tr>\n",
       "  </thead>\n",
       "  <tbody>\n",
       "    <tr>\n",
       "      <th>BO</th>\n",
       "      <td>21.622321</td>\n",
       "      <td>7.404464</td>\n",
       "    </tr>\n",
       "    <tr>\n",
       "      <th>LA</th>\n",
       "      <td>26.387879</td>\n",
       "      <td>13.658586</td>\n",
       "    </tr>\n",
       "    <tr>\n",
       "      <th>NY</th>\n",
       "      <td>16.047097</td>\n",
       "      <td>3.081935</td>\n",
       "    </tr>\n",
       "  </tbody>\n",
       "</table>\n",
       "</div>"
      ],
      "text/plain": [
       "        MaxTemp    MinTemp\n",
       "City                      \n",
       "BO    21.622321   7.404464\n",
       "LA    26.387879  13.658586\n",
       "NY    16.047097   3.081935"
      ]
     },
     "execution_count": 62,
     "metadata": {},
     "output_type": "execute_result"
    }
   ],
   "source": [
    "### Average maximum and minimum tempratures by city\n",
    "\n",
    "df.groupby(['City'])['MaxTemp', 'MinTemp'].mean()"
   ]
  },
  {
   "cell_type": "code",
   "execution_count": 65,
   "metadata": {},
   "outputs": [
    {
     "data": {
      "text/plain": [
       "<matplotlib.axes._subplots.AxesSubplot at 0xdc41490>"
      ]
     },
     "execution_count": 65,
     "metadata": {},
     "output_type": "execute_result"
    },
    {
     "data": {
      "image/png": "[encoded data removed]",
      "text/plain": [
       "<Figure size 432x288 with 1 Axes>"
      ]
     },
     "metadata": {
      "needs_background": "light"
     },
     "output_type": "display_data"
    }
   ],
   "source": [
    "### Graph of average tempratures\n",
    "\n",
    "df.groupby(['City'])['MaxTemp', 'MinTemp'].mean().plot(kind = 'bar')"
   ]
  },
  {
   "cell_type": "code",
   "execution_count": 85,
   "metadata": {},
   "outputs": [
    {
     "data": {
      "text/plain": [
       "BO    112\n",
       "LA     99\n",
       "NY    155\n",
       "Name: City, dtype: int64"
      ]
     },
     "execution_count": 85,
     "metadata": {},
     "output_type": "execute_result"
    }
   ],
   "source": [
    "### No. of recorded observations for each city\n",
    "\n",
    "df_c = df['City'].value_counts().sort_index()\n",
    "df_c"
   ]
  },
  {
   "cell_type": "code",
   "execution_count": 86,
   "metadata": {},
   "outputs": [
    {
     "data": {
      "text/plain": [
       "BO    16\n",
       "LA    27\n",
       "NY    23\n",
       "Name: City, dtype: int64"
      ]
     },
     "execution_count": 86,
     "metadata": {},
     "output_type": "execute_result"
    }
   ],
   "source": [
    "### No. of days when it rained\n",
    "\n",
    "df_r = df[df['RainToday'] == 'Yes']['City'].value_counts().sort_index()\n",
    "df_r"
   ]
  },
  {
   "cell_type": "code",
   "execution_count": 92,
   "metadata": {},
   "outputs": [
    {
     "data": {
      "text/plain": [
       "BO    14.285714\n",
       "LA    27.272727\n",
       "NY    14.838710\n",
       "Name: City, dtype: float64"
      ]
     },
     "execution_count": 92,
     "metadata": {},
     "output_type": "execute_result"
    }
   ],
   "source": [
    "### % of rainy days\n",
    "\n",
    "df_pc = (df_r / df_c) * 100\n",
    "df_pc.columns = ['City', '%Rain']\n",
    "df_pc"
   ]
  },
  {
   "cell_type": "code",
   "execution_count": 8,
   "metadata": {},
   "outputs": [
    {
     "data": {
      "text/plain": [
       "7.909366391184575"
      ]
     },
     "execution_count": 8,
     "metadata": {},
     "output_type": "execute_result"
    }
   ],
   "source": [
    "df['Sunshine'].mean()"
   ]
  },
  {
   "cell_type": "code",
   "execution_count": 22,
   "metadata": {},
   "outputs": [
    {
     "data": {
      "text/plain": [
       "7.844535519125685"
      ]
     },
     "execution_count": 22,
     "metadata": {},
     "output_type": "execute_result"
    }
   ],
   "source": [
    "df.fillna(0, inplace=True)\n",
    "df['Sunshine'].mean()"
   ]
  },
  {
   "cell_type": "code",
   "execution_count": 26,
   "metadata": {
    "scrolled": true
   },
   "outputs": [
    {
     "data": {
      "text/plain": [
       "<matplotlib.axes._subplots.AxesSubplot at 0xc5ef9d0>"
      ]
     },
     "execution_count": 26,
     "metadata": {},
     "output_type": "execute_result"
    },
    {
     "data": {
      "image/png": "[encoded data removed]",
      "text/plain": [
       "<Figure size 432x288 with 1 Axes>"
      ]
     },
     "metadata": {
      "needs_background": "light"
     },
     "output_type": "display_data"
    }
   ],
   "source": [
    "df[['City','MinTemp']][df['MinTemp']<=0.0].plot(kind = 'bar')"
   ]
  },
  {
   "cell_type": "code",
   "execution_count": 23,
   "metadata": {},
   "outputs": [
    {
     "data": {
      "text/plain": [
       "(366, 23)"
      ]
     },
     "execution_count": 23,
     "metadata": {},
     "output_type": "execute_result"
    }
   ],
   "source": [
    "df.shape"
   ]
  },
  {
   "cell_type": "code",
   "execution_count": 11,
   "metadata": {
    "scrolled": true
   },
   "outputs": [
    {
     "data": {
      "text/html": [
       "<div>\n",
       "<style scoped>\n",
       "    .dataframe tbody tr th:only-of-type {\n",
       "        vertical-align: middle;\n",
       "    }\n",
       "\n",
       "    .dataframe tbody tr th {\n",
       "        vertical-align: top;\n",
       "    }\n",
       "\n",
       "    .dataframe thead th {\n",
       "        text-align: right;\n",
       "    }\n",
       "</style>\n",
       "<table border=\"1\" class=\"dataframe\">\n",
       "  <thead>\n",
       "    <tr style=\"text-align: right;\">\n",
       "      <th></th>\n",
       "      <th>MinTemp</th>\n",
       "      <th>MaxTemp</th>\n",
       "      <th>Rainfall</th>\n",
       "      <th>Evaporation</th>\n",
       "      <th>Sunshine</th>\n",
       "      <th>WindGustSpeed</th>\n",
       "      <th>WindSpeed9am</th>\n",
       "      <th>WindSpeed3pm</th>\n",
       "      <th>Humidity9am</th>\n",
       "      <th>Humidity3pm</th>\n",
       "      <th>Pressure9am</th>\n",
       "      <th>Pressure3pm</th>\n",
       "      <th>Cloud9am</th>\n",
       "      <th>Cloud3pm</th>\n",
       "      <th>Temp9am</th>\n",
       "      <th>Temp3pm</th>\n",
       "      <th>RISK_MM</th>\n",
       "    </tr>\n",
       "  </thead>\n",
       "  <tbody>\n",
       "    <tr>\n",
       "      <th>MinTemp</th>\n",
       "      <td>1.000000</td>\n",
       "      <td>0.752471</td>\n",
       "      <td>0.201939</td>\n",
       "      <td>0.649930</td>\n",
       "      <td>0.035711</td>\n",
       "      <td>0.218020</td>\n",
       "      <td>0.127542</td>\n",
       "      <td>-0.065922</td>\n",
       "      <td>-0.207897</td>\n",
       "      <td>-0.040709</td>\n",
       "      <td>-0.501707</td>\n",
       "      <td>-0.498007</td>\n",
       "      <td>0.215776</td>\n",
       "      <td>0.118397</td>\n",
       "      <td>0.916745</td>\n",
       "      <td>0.722730</td>\n",
       "      <td>0.218551</td>\n",
       "    </tr>\n",
       "    <tr>\n",
       "      <th>MaxTemp</th>\n",
       "      <td>0.752471</td>\n",
       "      <td>1.000000</td>\n",
       "      <td>-0.073560</td>\n",
       "      <td>0.690026</td>\n",
       "      <td>0.452064</td>\n",
       "      <td>0.109672</td>\n",
       "      <td>-0.216814</td>\n",
       "      <td>-0.167873</td>\n",
       "      <td>-0.359602</td>\n",
       "      <td>-0.533327</td>\n",
       "      <td>-0.290883</td>\n",
       "      <td>-0.379394</td>\n",
       "      <td>-0.175730</td>\n",
       "      <td>-0.135991</td>\n",
       "      <td>0.870604</td>\n",
       "      <td>0.989261</td>\n",
       "      <td>0.027557</td>\n",
       "    </tr>\n",
       "    <tr>\n",
       "      <th>Rainfall</th>\n",
       "      <td>0.201939</td>\n",
       "      <td>-0.073560</td>\n",
       "      <td>1.000000</td>\n",
       "      <td>-0.007293</td>\n",
       "      <td>-0.150990</td>\n",
       "      <td>0.096190</td>\n",
       "      <td>0.219637</td>\n",
       "      <td>0.056008</td>\n",
       "      <td>0.150109</td>\n",
       "      <td>0.289013</td>\n",
       "      <td>-0.331581</td>\n",
       "      <td>-0.250218</td>\n",
       "      <td>0.180046</td>\n",
       "      <td>0.127792</td>\n",
       "      <td>0.077299</td>\n",
       "      <td>-0.087493</td>\n",
       "      <td>0.089860</td>\n",
       "    </tr>\n",
       "    <tr>\n",
       "      <th>Evaporation</th>\n",
       "      <td>0.649930</td>\n",
       "      <td>0.690026</td>\n",
       "      <td>-0.007293</td>\n",
       "      <td>1.000000</td>\n",
       "      <td>0.318025</td>\n",
       "      <td>0.288477</td>\n",
       "      <td>0.068929</td>\n",
       "      <td>0.048601</td>\n",
       "      <td>-0.519587</td>\n",
       "      <td>-0.391780</td>\n",
       "      <td>-0.381906</td>\n",
       "      <td>-0.391093</td>\n",
       "      <td>-0.106007</td>\n",
       "      <td>-0.100045</td>\n",
       "      <td>0.707676</td>\n",
       "      <td>0.671632</td>\n",
       "      <td>0.076762</td>\n",
       "    </tr>\n",
       "    <tr>\n",
       "      <th>Sunshine</th>\n",
       "      <td>0.035711</td>\n",
       "      <td>0.452064</td>\n",
       "      <td>-0.150990</td>\n",
       "      <td>0.318025</td>\n",
       "      <td>1.000000</td>\n",
       "      <td>0.095843</td>\n",
       "      <td>-0.064522</td>\n",
       "      <td>0.072573</td>\n",
       "      <td>-0.499017</td>\n",
       "      <td>-0.759429</td>\n",
       "      <td>0.006276</td>\n",
       "      <td>-0.036201</td>\n",
       "      <td>-0.681092</td>\n",
       "      <td>-0.661131</td>\n",
       "      <td>0.219509</td>\n",
       "      <td>0.470447</td>\n",
       "      <td>-0.378823</td>\n",
       "    </tr>\n",
       "    <tr>\n",
       "      <th>WindGustSpeed</th>\n",
       "      <td>0.218020</td>\n",
       "      <td>0.109672</td>\n",
       "      <td>0.096190</td>\n",
       "      <td>0.288477</td>\n",
       "      <td>0.095843</td>\n",
       "      <td>1.000000</td>\n",
       "      <td>0.527653</td>\n",
       "      <td>0.693945</td>\n",
       "      <td>-0.349793</td>\n",
       "      <td>-0.069439</td>\n",
       "      <td>-0.540180</td>\n",
       "      <td>-0.526885</td>\n",
       "      <td>-0.012666</td>\n",
       "      <td>0.050230</td>\n",
       "      <td>0.256223</td>\n",
       "      <td>0.072501</td>\n",
       "      <td>0.251991</td>\n",
       "    </tr>\n",
       "    <tr>\n",
       "      <th>WindSpeed9am</th>\n",
       "      <td>0.127542</td>\n",
       "      <td>-0.216814</td>\n",
       "      <td>0.219637</td>\n",
       "      <td>0.068929</td>\n",
       "      <td>-0.064522</td>\n",
       "      <td>0.527653</td>\n",
       "      <td>1.000000</td>\n",
       "      <td>0.472966</td>\n",
       "      <td>-0.270623</td>\n",
       "      <td>0.146657</td>\n",
       "      <td>-0.356332</td>\n",
       "      <td>-0.247952</td>\n",
       "      <td>0.101842</td>\n",
       "      <td>-0.022471</td>\n",
       "      <td>0.064074</td>\n",
       "      <td>-0.235186</td>\n",
       "      <td>0.039091</td>\n",
       "    </tr>\n",
       "    <tr>\n",
       "      <th>WindSpeed3pm</th>\n",
       "      <td>-0.065922</td>\n",
       "      <td>-0.167873</td>\n",
       "      <td>0.056008</td>\n",
       "      <td>0.048601</td>\n",
       "      <td>0.072573</td>\n",
       "      <td>0.693945</td>\n",
       "      <td>0.472966</td>\n",
       "      <td>1.000000</td>\n",
       "      <td>-0.266092</td>\n",
       "      <td>-0.026368</td>\n",
       "      <td>-0.359800</td>\n",
       "      <td>-0.337325</td>\n",
       "      <td>-0.026426</td>\n",
       "      <td>0.007207</td>\n",
       "      <td>-0.017766</td>\n",
       "      <td>-0.187570</td>\n",
       "      <td>-0.009447</td>\n",
       "    </tr>\n",
       "    <tr>\n",
       "      <th>Humidity9am</th>\n",
       "      <td>-0.207897</td>\n",
       "      <td>-0.359602</td>\n",
       "      <td>0.150109</td>\n",
       "      <td>-0.519587</td>\n",
       "      <td>-0.499017</td>\n",
       "      <td>-0.349793</td>\n",
       "      <td>-0.270623</td>\n",
       "      <td>-0.266092</td>\n",
       "      <td>1.000000</td>\n",
       "      <td>0.546718</td>\n",
       "      <td>0.135727</td>\n",
       "      <td>0.134420</td>\n",
       "      <td>0.392842</td>\n",
       "      <td>0.271938</td>\n",
       "      <td>-0.436551</td>\n",
       "      <td>-0.355119</td>\n",
       "      <td>0.165931</td>\n",
       "    </tr>\n",
       "    <tr>\n",
       "      <th>Humidity3pm</th>\n",
       "      <td>-0.040709</td>\n",
       "      <td>-0.533327</td>\n",
       "      <td>0.289013</td>\n",
       "      <td>-0.391780</td>\n",
       "      <td>-0.759429</td>\n",
       "      <td>-0.069439</td>\n",
       "      <td>0.146657</td>\n",
       "      <td>-0.026368</td>\n",
       "      <td>0.546718</td>\n",
       "      <td>1.000000</td>\n",
       "      <td>-0.087946</td>\n",
       "      <td>-0.010052</td>\n",
       "      <td>0.551633</td>\n",
       "      <td>0.510108</td>\n",
       "      <td>-0.255681</td>\n",
       "      <td>-0.581676</td>\n",
       "      <td>0.358752</td>\n",
       "    </tr>\n",
       "    <tr>\n",
       "      <th>Pressure9am</th>\n",
       "      <td>-0.501707</td>\n",
       "      <td>-0.290883</td>\n",
       "      <td>-0.331581</td>\n",
       "      <td>-0.381906</td>\n",
       "      <td>0.006276</td>\n",
       "      <td>-0.540180</td>\n",
       "      <td>-0.356332</td>\n",
       "      <td>-0.359800</td>\n",
       "      <td>0.135727</td>\n",
       "      <td>-0.087946</td>\n",
       "      <td>1.000000</td>\n",
       "      <td>0.967895</td>\n",
       "      <td>-0.157553</td>\n",
       "      <td>-0.141000</td>\n",
       "      <td>-0.460418</td>\n",
       "      <td>-0.253674</td>\n",
       "      <td>-0.290584</td>\n",
       "    </tr>\n",
       "    <tr>\n",
       "      <th>Pressure3pm</th>\n",
       "      <td>-0.498007</td>\n",
       "      <td>-0.379394</td>\n",
       "      <td>-0.250218</td>\n",
       "      <td>-0.391093</td>\n",
       "      <td>-0.036201</td>\n",
       "      <td>-0.526885</td>\n",
       "      <td>-0.247952</td>\n",
       "      <td>-0.337325</td>\n",
       "      <td>0.134420</td>\n",
       "      <td>-0.010052</td>\n",
       "      <td>0.967895</td>\n",
       "      <td>1.000000</td>\n",
       "      <td>-0.128944</td>\n",
       "      <td>-0.143837</td>\n",
       "      <td>-0.492636</td>\n",
       "      <td>-0.345485</td>\n",
       "      <td>-0.311421</td>\n",
       "    </tr>\n",
       "    <tr>\n",
       "      <th>Cloud9am</th>\n",
       "      <td>0.215776</td>\n",
       "      <td>-0.175730</td>\n",
       "      <td>0.180046</td>\n",
       "      <td>-0.106007</td>\n",
       "      <td>-0.681092</td>\n",
       "      <td>-0.012666</td>\n",
       "      <td>0.101842</td>\n",
       "      <td>-0.026426</td>\n",
       "      <td>0.392842</td>\n",
       "      <td>0.551633</td>\n",
       "      <td>-0.157553</td>\n",
       "      <td>-0.128944</td>\n",
       "      <td>1.000000</td>\n",
       "      <td>0.525218</td>\n",
       "      <td>0.021041</td>\n",
       "      <td>-0.202344</td>\n",
       "      <td>0.273914</td>\n",
       "    </tr>\n",
       "    <tr>\n",
       "      <th>Cloud3pm</th>\n",
       "      <td>0.118397</td>\n",
       "      <td>-0.135991</td>\n",
       "      <td>0.127792</td>\n",
       "      <td>-0.100045</td>\n",
       "      <td>-0.661131</td>\n",
       "      <td>0.050230</td>\n",
       "      <td>-0.022471</td>\n",
       "      <td>0.007207</td>\n",
       "      <td>0.271938</td>\n",
       "      <td>0.510108</td>\n",
       "      <td>-0.141000</td>\n",
       "      <td>-0.143837</td>\n",
       "      <td>0.525218</td>\n",
       "      <td>1.000000</td>\n",
       "      <td>0.040945</td>\n",
       "      <td>-0.172814</td>\n",
       "      <td>0.326455</td>\n",
       "    </tr>\n",
       "    <tr>\n",
       "      <th>Temp9am</th>\n",
       "      <td>0.916745</td>\n",
       "      <td>0.870604</td>\n",
       "      <td>0.077299</td>\n",
       "      <td>0.707676</td>\n",
       "      <td>0.219509</td>\n",
       "      <td>0.256223</td>\n",
       "      <td>0.064074</td>\n",
       "      <td>-0.017766</td>\n",
       "      <td>-0.436551</td>\n",
       "      <td>-0.255681</td>\n",
       "      <td>-0.460418</td>\n",
       "      <td>-0.492636</td>\n",
       "      <td>0.021041</td>\n",
       "      <td>0.040945</td>\n",
       "      <td>1.000000</td>\n",
       "      <td>0.844406</td>\n",
       "      <td>0.164842</td>\n",
       "    </tr>\n",
       "    <tr>\n",
       "      <th>Temp3pm</th>\n",
       "      <td>0.722730</td>\n",
       "      <td>0.989261</td>\n",
       "      <td>-0.087493</td>\n",
       "      <td>0.671632</td>\n",
       "      <td>0.470447</td>\n",
       "      <td>0.072501</td>\n",
       "      <td>-0.235186</td>\n",
       "      <td>-0.187570</td>\n",
       "      <td>-0.355119</td>\n",
       "      <td>-0.581676</td>\n",
       "      <td>-0.253674</td>\n",
       "      <td>-0.345485</td>\n",
       "      <td>-0.202344</td>\n",
       "      <td>-0.172814</td>\n",
       "      <td>0.844406</td>\n",
       "      <td>1.000000</td>\n",
       "      <td>-0.005825</td>\n",
       "    </tr>\n",
       "    <tr>\n",
       "      <th>RISK_MM</th>\n",
       "      <td>0.218551</td>\n",
       "      <td>0.027557</td>\n",
       "      <td>0.089860</td>\n",
       "      <td>0.076762</td>\n",
       "      <td>-0.378823</td>\n",
       "      <td>0.251991</td>\n",
       "      <td>0.039091</td>\n",
       "      <td>-0.009447</td>\n",
       "      <td>0.165931</td>\n",
       "      <td>0.358752</td>\n",
       "      <td>-0.290584</td>\n",
       "      <td>-0.311421</td>\n",
       "      <td>0.273914</td>\n",
       "      <td>0.326455</td>\n",
       "      <td>0.164842</td>\n",
       "      <td>-0.005825</td>\n",
       "      <td>1.000000</td>\n",
       "    </tr>\n",
       "  </tbody>\n",
       "</table>\n",
       "</div>"
      ],
      "text/plain": [
       "                MinTemp   MaxTemp  Rainfall  Evaporation  Sunshine  \\\n",
       "MinTemp        1.000000  0.752471  0.201939     0.649930  0.035711   \n",
       "MaxTemp        0.752471  1.000000 -0.073560     0.690026  0.452064   \n",
       "Rainfall       0.201939 -0.073560  1.000000    -0.007293 -0.150990   \n",
       "Evaporation    0.649930  0.690026 -0.007293     1.000000  0.318025   \n",
       "Sunshine       0.035711  0.452064 -0.150990     0.318025  1.000000   \n",
       "WindGustSpeed  0.218020  0.109672  0.096190     0.288477  0.095843   \n",
       "WindSpeed9am   0.127542 -0.216814  0.219637     0.068929 -0.064522   \n",
       "WindSpeed3pm  -0.065922 -0.167873  0.056008     0.048601  0.072573   \n",
       "Humidity9am   -0.207897 -0.359602  0.150109    -0.519587 -0.499017   \n",
       "Humidity3pm   -0.040709 -0.533327  0.289013    -0.391780 -0.759429   \n",
       "Pressure9am   -0.501707 -0.290883 -0.331581    -0.381906  0.006276   \n",
       "Pressure3pm   -0.498007 -0.379394 -0.250218    -0.391093 -0.036201   \n",
       "Cloud9am       0.215776 -0.175730  0.180046    -0.106007 -0.681092   \n",
       "Cloud3pm       0.118397 -0.135991  0.127792    -0.100045 -0.661131   \n",
       "Temp9am        0.916745  0.870604  0.077299     0.707676  0.219509   \n",
       "Temp3pm        0.722730  0.989261 -0.087493     0.671632  0.470447   \n",
       "RISK_MM        0.218551  0.027557  0.089860     0.076762 -0.378823   \n",
       "\n",
       "               WindGustSpeed  WindSpeed9am  WindSpeed3pm  Humidity9am  \\\n",
       "MinTemp             0.218020      0.127542     -0.065922    -0.207897   \n",
       "MaxTemp             0.109672     -0.216814     -0.167873    -0.359602   \n",
       "Rainfall            0.096190      0.219637      0.056008     0.150109   \n",
       "Evaporation         0.288477      0.068929      0.048601    -0.519587   \n",
       "Sunshine            0.095843     -0.064522      0.072573    -0.499017   \n",
       "WindGustSpeed       1.000000      0.527653      0.693945    -0.349793   \n",
       "WindSpeed9am        0.527653      1.000000      0.472966    -0.270623   \n",
       "WindSpeed3pm        0.693945      0.472966      1.000000    -0.266092   \n",
       "Humidity9am        -0.349793     -0.270623     -0.266092     1.000000   \n",
       "Humidity3pm        -0.069439      0.146657     -0.026368     0.546718   \n",
       "Pressure9am        -0.540180     -0.356332     -0.359800     0.135727   \n",
       "Pressure3pm        -0.526885     -0.247952     -0.337325     0.134420   \n",
       "Cloud9am           -0.012666      0.101842     -0.026426     0.392842   \n",
       "Cloud3pm            0.050230     -0.022471      0.007207     0.271938   \n",
       "Temp9am             0.256223      0.064074     -0.017766    -0.436551   \n",
       "Temp3pm             0.072501     -0.235186     -0.187570    -0.355119   \n",
       "RISK_MM             0.251991      0.039091     -0.009447     0.165931   \n",
       "\n",
       "               Humidity3pm  Pressure9am  Pressure3pm  Cloud9am  Cloud3pm  \\\n",
       "MinTemp          -0.040709    -0.501707    -0.498007  0.215776  0.118397   \n",
       "MaxTemp          -0.533327    -0.290883    -0.379394 -0.175730 -0.135991   \n",
       "Rainfall          0.289013    -0.331581    -0.250218  0.180046  0.127792   \n",
       "Evaporation      -0.391780    -0.381906    -0.391093 -0.106007 -0.100045   \n",
       "Sunshine         -0.759429     0.006276    -0.036201 -0.681092 -0.661131   \n",
       "WindGustSpeed    -0.069439    -0.540180    -0.526885 -0.012666  0.050230   \n",
       "WindSpeed9am      0.146657    -0.356332    -0.247952  0.101842 -0.022471   \n",
       "WindSpeed3pm     -0.026368    -0.359800    -0.337325 -0.026426  0.007207   \n",
       "Humidity9am       0.546718     0.135727     0.134420  0.392842  0.271938   \n",
       "Humidity3pm       1.000000    -0.087946    -0.010052  0.551633  0.510108   \n",
       "Pressure9am      -0.087946     1.000000     0.967895 -0.157553 -0.141000   \n",
       "Pressure3pm      -0.010052     0.967895     1.000000 -0.128944 -0.143837   \n",
       "Cloud9am          0.551633    -0.157553    -0.128944  1.000000  0.525218   \n",
       "Cloud3pm          0.510108    -0.141000    -0.143837  0.525218  1.000000   \n",
       "Temp9am          -0.255681    -0.460418    -0.492636  0.021041  0.040945   \n",
       "Temp3pm          -0.581676    -0.253674    -0.345485 -0.202344 -0.172814   \n",
       "RISK_MM           0.358752    -0.290584    -0.311421  0.273914  0.326455   \n",
       "\n",
       "                Temp9am   Temp3pm   RISK_MM  \n",
       "MinTemp        0.916745  0.722730  0.218551  \n",
       "MaxTemp        0.870604  0.989261  0.027557  \n",
       "Rainfall       0.077299 -0.087493  0.089860  \n",
       "Evaporation    0.707676  0.671632  0.076762  \n",
       "Sunshine       0.219509  0.470447 -0.378823  \n",
       "WindGustSpeed  0.256223  0.072501  0.251991  \n",
       "WindSpeed9am   0.064074 -0.235186  0.039091  \n",
       "WindSpeed3pm  -0.017766 -0.187570 -0.009447  \n",
       "Humidity9am   -0.436551 -0.355119  0.165931  \n",
       "Humidity3pm   -0.255681 -0.581676  0.358752  \n",
       "Pressure9am   -0.460418 -0.253674 -0.290584  \n",
       "Pressure3pm   -0.492636 -0.345485 -0.311421  \n",
       "Cloud9am       0.021041 -0.202344  0.273914  \n",
       "Cloud3pm       0.040945 -0.172814  0.326455  \n",
       "Temp9am        1.000000  0.844406  0.164842  \n",
       "Temp3pm        0.844406  1.000000 -0.005825  \n",
       "RISK_MM        0.164842 -0.005825  1.000000  "
      ]
     },
     "execution_count": 11,
     "metadata": {},
     "output_type": "execute_result"
    }
   ],
   "source": [
    "df.corr()"
   ]
  },
  {
   "cell_type": "code",
   "execution_count": 8,
   "metadata": {},
   "outputs": [
    {
     "data": {
      "text/plain": [
       "0.45206351617824436"
      ]
     },
     "execution_count": 8,
     "metadata": {},
     "output_type": "execute_result"
    }
   ],
   "source": [
    "df['MaxTemp'].corr(df['Sunshine'])"
   ]
  },
  {
   "cell_type": "code",
   "execution_count": null,
   "metadata": {},
   "outputs": [],
   "source": []
  }
 ],
 "metadata": {
  "kernelspec": {
   "display_name": "Python 3",
   "language": "python",
   "name": "python3"
  },
  "language_info": {
   "codemirror_mode": {
    "name": "ipython",
    "version": 3
   },
   "file_extension": ".py",
   "mimetype": "text/x-python",
   "name": "python",
   "nbconvert_exporter": "python",
   "pygments_lexer": "ipython3",
   "version": "3.7.1"
  }
 },
 "nbformat": 4,
 "nbformat_minor": 2
}
